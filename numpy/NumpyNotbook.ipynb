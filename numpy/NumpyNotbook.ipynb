{
 "cells": [
  {
   "cell_type": "markdown",
   "id": "7e3645a1",
   "metadata": {},
   "source": [
    "# NumPy 操作\n",
    "ndarray类的实例可以通过本教程后面描述的不同的数组创建例程来构造。 基本的ndarray是使用 NumPy 中的数组函数创建的，如下所示："
   ]
  },
  {
   "cell_type": "code",
   "execution_count": null,
   "id": "840e5429",
   "metadata": {},
   "outputs": [],
   "source": [
    "numpy.array"
   ]
  },
  {
   "cell_type": "markdown",
   "id": "1a42d900",
   "metadata": {},
   "source": [
    "### 它从任何暴露数组接口的对象，或从返回数组的任何方法创建一个ndarray。"
   ]
  },
  {
   "cell_type": "code",
   "execution_count": null,
   "id": "1f98ffd3",
   "metadata": {},
   "outputs": [],
   "source": [
    " numpy.array(object, dtype = None, copy = True, order = None, subok = False, ndmin = 0)"
   ]
  },
  {
   "cell_type": "markdown",
   "id": "b99bf9f3",
   "metadata": {},
   "source": [
    "上面的构造器接受以下参数：\n",
    "![1](./插图/1.png)"
   ]
  },
  {
   "cell_type": "code",
   "execution_count": 1,
   "id": "bc6b7896",
   "metadata": {},
   "outputs": [
    {
     "data": {
      "text/plain": [
       "array([1, 2, 3])"
      ]
     },
     "execution_count": 1,
     "metadata": {},
     "output_type": "execute_result"
    }
   ],
   "source": [
    "import numpy as np\n",
    "a = np.array([1,2,3])\n",
    "a"
   ]
  },
  {
   "cell_type": "code",
   "execution_count": 2,
   "id": "d0276eea",
   "metadata": {},
   "outputs": [
    {
     "data": {
      "text/plain": [
       "array([[1, 2],\n",
       "       [3, 4]])"
      ]
     },
     "execution_count": 2,
     "metadata": {},
     "output_type": "execute_result"
    }
   ],
   "source": [
    "# 多于一个维度\n",
    "import numpy as np\n",
    "a = np.array([[1,2],[3,4]])\n",
    "a"
   ]
  },
  {
   "cell_type": "code",
   "execution_count": 3,
   "id": "83960273",
   "metadata": {},
   "outputs": [
    {
     "data": {
      "text/plain": [
       "array([[1, 2, 3, 4, 5]])"
      ]
     },
     "execution_count": 3,
     "metadata": {},
     "output_type": "execute_result"
    }
   ],
   "source": [
    "# 最小维度\n",
    "import numpy as np\n",
    "a = np.array([1,2,3,4,5], ndmin = 2)\n",
    "a"
   ]
  },
  {
   "cell_type": "code",
   "execution_count": 4,
   "id": "60f13982",
   "metadata": {},
   "outputs": [
    {
     "data": {
      "text/plain": [
       "array([1.+0.j, 2.+0.j, 3.+0.j])"
      ]
     },
     "execution_count": 4,
     "metadata": {},
     "output_type": "execute_result"
    }
   ],
   "source": [
    "# dtype 参数\n",
    "import numpy as np\n",
    "a = np.array([1,2,3], dtype = complex)\n",
    "a"
   ]
  },
  {
   "cell_type": "markdown",
   "id": "f183dca6",
   "metadata": {},
   "source": [
    "# NumPy - 数据类型\n",
    "NumPy 支持比 Python 更多种类的数值类型。 下表显示了 NumPy 中定义的不同标量数据类型。"
   ]
  },
  {
   "cell_type": "markdown",
   "id": "4a1eda36",
   "metadata": {},
   "source": [
    "![2](./插图/2.png)\n",
    "NumPy 数字类型是dtype（数据类型）对象的实例，每个对象具有唯一的特征。 这些类型可以是np.bool_，np.float32等。"
   ]
  },
  {
   "cell_type": "markdown",
   "id": "bd2d238f",
   "metadata": {},
   "source": [
    "# 数据类型对象 (dtype)\n",
    "数据类型对象描述了对应于数组的固定内存块的解释，取决于以下方面：\n",
    "\n",
    "+ 数据类型（整数、浮点或者 Python 对象）\n",
    "\n",
    "+ 数据大小\n",
    "\n",
    "+ 字节序（小端或大端）\n",
    "\n",
    "在结构化类型的情况下，字段的名称，每个字段的数据类型，和每个字段占用的内存块部分。\n",
    "\n",
    "如果数据类型是子序列，它的形状和数据类型。\n",
    "\n",
    "字节顺序取决于数据类型的前缀<或>。 <意味着编码是小端（最小有效字节存储在最小地址中）。 >意味着编码是大端（最大有效字节存储在最小地址中）。"
   ]
  },
  {
   "cell_type": "markdown",
   "id": "918c5819",
   "metadata": {},
   "source": [
    "dtype可由一下语法构造："
   ]
  },
  {
   "cell_type": "code",
   "execution_count": null,
   "id": "6066c6ef",
   "metadata": {},
   "outputs": [],
   "source": [
    "numpy.dtype(object, align, copy)"
   ]
  },
  {
   "cell_type": "markdown",
   "id": "506296d2",
   "metadata": {},
   "source": [
    "参数为：\n",
    "\n",
    "+ Object：被转换为数据类型的对象。\n",
    "\n",
    "+ Align：如果为true，则向字段添加间隔，使其类似 C 的结构体。\n",
    "\n",
    "+ Copy：生成dtype对象的新副本，如果为flase，结果是内建数据类型对象的引用。"
   ]
  },
  {
   "cell_type": "code",
   "execution_count": 9,
   "id": "24f34319",
   "metadata": {},
   "outputs": [
    {
     "data": {
      "text/plain": [
       "dtype('int32')"
      ]
     },
     "execution_count": 9,
     "metadata": {},
     "output_type": "execute_result"
    }
   ],
   "source": [
    "# 使用数组标量类型\n",
    "import numpy as np\n",
    "dt = np.dtype(np.int32)\n",
    "dt"
   ]
  },
  {
   "cell_type": "code",
   "execution_count": 10,
   "id": "2452581c",
   "metadata": {},
   "outputs": [
    {
     "data": {
      "text/plain": [
       "dtype('int32')"
      ]
     },
     "execution_count": 10,
     "metadata": {},
     "output_type": "execute_result"
    }
   ],
   "source": [
    "# int8,int16,int32,int64 可替换为等价的字符串 'i1','i2','i4',以及其他。\n",
    "import numpy as np\n",
    "dt = np.dtype('i4')\n",
    "dt"
   ]
  },
  {
   "cell_type": "code",
   "execution_count": 11,
   "id": "8cbda410",
   "metadata": {},
   "outputs": [
    {
     "data": {
      "text/plain": [
       "dtype('>i4')"
      ]
     },
     "execution_count": 11,
     "metadata": {},
     "output_type": "execute_result"
    }
   ],
   "source": [
    "# 使用端记号\n",
    "import numpy as np\n",
    "dt = np.dtype('>i4')\n",
    "dt"
   ]
  },
  {
   "cell_type": "markdown",
   "id": "52347530",
   "metadata": {},
   "source": [
    "下面的例子展示了结构化数据类型的使用。 这里声明了字段名称和相应的标量数据类型。"
   ]
  },
  {
   "cell_type": "code",
   "execution_count": 12,
   "id": "06094042",
   "metadata": {},
   "outputs": [
    {
     "data": {
      "text/plain": [
       "dtype([('age', 'i1')])"
      ]
     },
     "execution_count": 12,
     "metadata": {},
     "output_type": "execute_result"
    }
   ],
   "source": [
    "# 首先创建结构化数据类型\n",
    "import numpy as np\n",
    "dt = np.dtype([('age', np.int8)])\n",
    "dt"
   ]
  },
  {
   "cell_type": "code",
   "execution_count": 14,
   "id": "3a20d4cf",
   "metadata": {},
   "outputs": [
    {
     "data": {
      "text/plain": [
       "array([(10,), (20,), (30,)], dtype=[('age', 'i1')])"
      ]
     },
     "execution_count": 14,
     "metadata": {},
     "output_type": "execute_result"
    }
   ],
   "source": [
    "# 现在将其应用于 ndarray 对象\n",
    "import numpy as np\n",
    "\n",
    "dt = np.dtype([('age', np.int8)])\n",
    "a = np.array([(10,),(20,),(30,)], dtype = dt)\n",
    "a"
   ]
  },
  {
   "cell_type": "code",
   "execution_count": 15,
   "id": "e87e05a1",
   "metadata": {},
   "outputs": [
    {
     "data": {
      "text/plain": [
       "array([10, 20, 30], dtype=int8)"
      ]
     },
     "execution_count": 15,
     "metadata": {},
     "output_type": "execute_result"
    }
   ],
   "source": [
    "# 文件名称可用于访问 age 列的内容\n",
    "import numpy as np\n",
    "\n",
    "dt = np.dtype([('age', np.int8)])\n",
    "a = np.array([(10,),(20,),(30,)], dtype = dt)\n",
    "a['age']"
   ]
  },
  {
   "cell_type": "markdown",
   "id": "5162e2a9",
   "metadata": {},
   "source": [
    "以下示例定义名为 student 的结构化数据类型，\n",
    "其中包含字符串字段name，整数字段age和浮点字段marks。 此dtype应用于ndarray对象。"
   ]
  },
  {
   "cell_type": "code",
   "execution_count": 21,
   "id": "635012b6",
   "metadata": {},
   "outputs": [
    {
     "data": {
      "text/plain": [
       "dtype([('name', 'S20'), ('age', 'i1'), ('marks', '<f4')])"
      ]
     },
     "execution_count": 21,
     "metadata": {},
     "output_type": "execute_result"
    }
   ],
   "source": [
    "import numpy as np\n",
    "student = np.dtype([('name','S20'),('age','i1'),('marks','f4')])\n",
    "student"
   ]
  },
  {
   "cell_type": "code",
   "execution_count": 26,
   "id": "620fbf31",
   "metadata": {},
   "outputs": [
    {
     "data": {
      "text/plain": [
       "array([(b'abc', 21, 50.), (b'xyz', 18, 75.)],\n",
       "      dtype=[('name', 'S20'), ('age', 'i1'), ('marks', '<f4')])"
      ]
     },
     "execution_count": 26,
     "metadata": {},
     "output_type": "execute_result"
    }
   ],
   "source": [
    "import numpy as np\n",
    "student = np.dtype([('name','S20'),('age','i1'),('marks','f4')])\n",
    "a = np.array([('abc',21,50),('xyz',18,75)],dtype = student)\n",
    "a"
   ]
  },
  {
   "cell_type": "code",
   "execution_count": null,
   "id": "cf49b7c9",
   "metadata": {},
   "outputs": [],
   "source": [
    "# 实际输出结果应该如下：\n",
    "[('abc', 21, 50.0), ('xyz', 18, 75.0)]"
   ]
  },
  {
   "cell_type": "markdown",
   "id": "9ef5a258",
   "metadata": {},
   "source": [
    "### 每个内建类型都有一个唯一定义它的字符代码：\n",
    "\n",
    "+ 'b'：布尔值\n",
    "\n",
    "+ 'i'：符号整数\n",
    "\n",
    "+ 'u'：无符号整数\n",
    "\n",
    "+ 'f'：浮点\n",
    "\n",
    "+ 'c'：复数浮点\n",
    "\n",
    "+ 'm'：时间间隔\n",
    "\n",
    "+ 'M'：日期时间\n",
    "\n",
    "+ 'O'：Python 对象\n",
    "\n",
    "+ 'S', 'a'：字节串\n",
    "\n",
    "+ 'U'：Unicode\n",
    "\n",
    "+ 'V'：原始数据（void）"
   ]
  },
  {
   "cell_type": "code",
   "execution_count": null,
   "outputs": [],
   "source": [],
   "metadata": {
    "collapsed": false
   }
  }
 ],
 "metadata": {
  "kernelspec": {
   "display_name": "Python 3 (ipykernel)",
   "language": "python",
   "name": "python3"
  },
  "language_info": {
   "codemirror_mode": {
    "name": "ipython",
    "version": 3
   },
   "file_extension": ".py",
   "mimetype": "text/x-python",
   "name": "python",
   "nbconvert_exporter": "python",
   "pygments_lexer": "ipython3",
   "version": "3.9.13"
  }
 },
 "nbformat": 4,
 "nbformat_minor": 5
}
